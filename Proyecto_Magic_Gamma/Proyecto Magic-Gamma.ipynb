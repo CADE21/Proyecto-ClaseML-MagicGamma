{
 "cells": [
  {
   "cell_type": "markdown",
   "metadata": {},
   "source": [
    "# Proyecto final "
   ]
  },
  {
   "cell_type": "markdown",
   "metadata": {},
   "source": [
    "### Por Carlos Andrés Díaz "
   ]
  },
  {
   "cell_type": "markdown",
   "metadata": {},
   "source": [
    "El presente proyecto se basó en el dataset de https://archive.ics.uci.edu/ml/datasets/MAGIC+Gamma+Telescope donado por P. Savicky.\n",
    "Este muestra la datos simulados de un detector de radiación Cherenkov cuya finalidad es ver si la lluvia electromagnética registrada por sus cámaras es desencadenado por rayos gamma (g) o por lluvia de hadrones de fondo (h) la cual sería la señal ruido. Para esto se analizan los parámetros de la imagen elipsoidal producida, incluyendo su ancho, largo, tamaño, distancia al centro etc. \n",
    "\n",
    "Las especificaciones dadas, mencionan que la simple precisión no basta, pues es mucho peor clasificar un evento h como g, que viceversa. Por lo que se prioriza la probabilidad de darse un falso positivo dado por 1-especificidad. Frente a est, se mencionan varias lineas de corte en cuanto a la probabilida máxima: 0.01, 0.02, 0.05, 0.1, 0.2 dependiendo de la calidad esperada. "
   ]
  },
  {
   "cell_type": "markdown",
   "metadata": {},
   "source": [
    "El código fue basado en los notebooks y las enseñanzas dadas en el curso: \"Curso completo de Machine Learning: Data Science en Python\", instruida por Juan Gabriel Gomila Salas, por medio de Udemy Academy "
   ]
  },
  {
   "cell_type": "code",
   "execution_count": 1,
   "metadata": {},
   "outputs": [],
   "source": [
    "import pandas as pd\n",
    "import numpy as np\n",
    "import matplotlib.pyplot as plt\n",
    "%matplotlib inline\n",
    "\n",
    "import imageio\n",
    "import chart_studio.tools as tls\n",
    "from sklearn.preprocessing import StandardScaler\n",
    "\n",
    "\n",
    "from random import randint\n",
    "from random import seed\n",
    "\n",
    "from sklearn.feature_selection import RFE\n",
    "from sklearn.linear_model import LogisticRegression\n",
    "from sklearn.model_selection import train_test_split\n",
    "from sklearn import linear_model\n",
    "\n",
    "import statsmodels.api as sm\n",
    "\n",
    "from sklearn.svm import SVC\n",
    "\n",
    "from sklearn import preprocessing, neighbors"
   ]
  },
  {
   "cell_type": "markdown",
   "metadata": {},
   "source": [
    "# Importar df de gamma"
   ]
  },
  {
   "cell_type": "code",
   "execution_count": 2,
   "metadata": {},
   "outputs": [],
   "source": [
    "filepath=(\"Gamma/magic04.data\")\n",
    "data=pd.read_csv(filepath,sep=\",\",header=None,names=[\"Lenght\",\"Width\",\"Size\",\"Conc\",\"Conc1\",\"Asym\",\"fM3Long\",\"fM3Trans\",\"Alpha\",\"Dist\",\"Class\"])\n",
    "data.head()"
   ]
  },
  {
   "cell_type": "markdown",
   "metadata": {},
   "source": [
    "# Análisis exploratorio"
   ]
  },
  {
   "cell_type": "code",
   "execution_count": 3,
   "metadata": {},
   "outputs": [],
   "source": [
    "data.tail()"
   ]
  },
  {
   "cell_type": "code",
   "execution_count": 4,
   "metadata": {},
   "outputs": [],
   "source": [
    "data.shape"
   ]
  },
  {
   "cell_type": "code",
   "execution_count": 5,
   "metadata": {},
   "outputs": [],
   "source": [
    "data.groupby([\"Class\"]).count()"
   ]
  },
  {
   "cell_type": "markdown",
   "metadata": {},
   "source": [
    "Como los primeros 2/3 de los datos son h y el 1/3 del final son h, se requiere desordenar los datos para que los métodos de validación aleatorios sean más efectivos."
   ]
  },
  {
   "cell_type": "code",
   "execution_count": 6,
   "metadata": {},
   "outputs": [],
   "source": [
    "rand_seed=0#20\n",
    "data=data.sample(frac=1,random_state=rand_seed)#20\n",
    "data.head()"
   ]
  },
  {
   "cell_type": "code",
   "execution_count": 7,
   "metadata": {},
   "outputs": [],
   "source": [
    "data.corr()"
   ]
  },
  {
   "cell_type": "code",
   "execution_count": 8,
   "metadata": {},
   "outputs": [],
   "source": [
    "A=pd.get_dummies(data.Class)\n",
    "data[\"g\"]=A[\"g\"]"
   ]
  },
  {
   "cell_type": "code",
   "execution_count": 9,
   "metadata": {},
   "outputs": [],
   "source": [
    "X_column_names=data.columns[:-2]"
   ]
  },
  {
   "cell_type": "code",
   "execution_count": 10,
   "metadata": {},
   "outputs": [],
   "source": [
    "n=5\n",
    "lr=LogisticRegression()\n",
    "X_explor_std=StandardScaler().fit_transform(data[X_column_names])\n",
    "rfe=RFE(lr,n)\n",
    "rfe=rfe.fit(X_explor_std,data[\"g\"])\n",
    "list(zip(rfe.ranking_,data.columns.values))"
   ]
  },
  {
   "cell_type": "markdown",
   "metadata": {},
   "source": [
    "### Analisis exploratorio con regresión simple, usando stats model"
   ]
  },
  {
   "cell_type": "code",
   "execution_count": 11,
   "metadata": {},
   "outputs": [],
   "source": [
    "logit_model=sm.Logit(data[\"g\"],data[X_column_names])\n",
    "result=logit_model.fit()\n",
    "result.summary()"
   ]
  },
  {
   "cell_type": "markdown",
   "metadata": {},
   "source": [
    "Dado que tanto Azym como fm3Trans muestran un P alto, se eliminarán.\n",
    "Por el orden de aporte del Componente Conc, se había considerado removerlo sin embargo, al hacerlo se tuvo una ligera desmejora en los reusltados, por lo que se decidió concervarlos."
   ]
  },
  {
   "cell_type": "markdown",
   "metadata": {},
   "source": [
    "Dado a la alta multicolinealidad entre los compontentes, se considera usar el método de ACP para obtener un sistema ortogonal y comparar los resultados.\n"
   ]
  },
  {
   "cell_type": "code",
   "execution_count": 12,
   "metadata": {},
   "outputs": [],
   "source": [
    "data=data.drop([\"Asym\",\"fM3Trans\"], axis=1)\n",
    "data\n",
    "Col_l=len(data.columns)-2\n",
    "data.head()"
   ]
  },
  {
   "cell_type": "code",
   "execution_count": 13,
   "metadata": {},
   "outputs": [],
   "source": [
    "plt.scatter(data.Width,data.Size,c=A[\"g\"],alpha=0.5)"
   ]
  },
  {
   "cell_type": "code",
   "execution_count": 14,
   "metadata": {},
   "outputs": [],
   "source": [
    "#Imagen producida de plotly\n",
    "#(0=h, 1=g)\n",
    "fig = plt.figure(figsize=(21,9))\n",
    "r_distrib=imageio.imread(\"Distribucion_ r_elipses.png\")\n",
    "r_distrib.shape\n",
    "plt.imshow(r_distrib,aspect='auto')"
   ]
  },
  {
   "cell_type": "code",
   "execution_count": 15,
   "metadata": {},
   "outputs": [],
   "source": [
    "X=data.iloc[:,0:Col_l].values\n",
    "Y=data.iloc[:,Col_l+1].values"
   ]
  },
  {
   "cell_type": "markdown",
   "metadata": {},
   "source": [
    "# Método de ACP"
   ]
  },
  {
   "cell_type": "markdown",
   "metadata": {},
   "source": [
    "## Cálculo de valores propios"
   ]
  },
  {
   "cell_type": "markdown",
   "metadata": {},
   "source": [
    "Se decidió usar el método manual, ya que el método con sk_pca mostró una ligera desmejoría"
   ]
  },
  {
   "cell_type": "code",
   "execution_count": 16,
   "metadata": {},
   "outputs": [],
   "source": [
    "x_std=StandardScaler().fit_transform(X)\n",
    "correlation_matrix=np.corrcoef(X.T)\n",
    "eig_vals,eig_vects=np.linalg.eig(correlation_matrix)\n",
    "print(eig_vals)\n",
    "print(eig_vects)"
   ]
  },
  {
   "cell_type": "markdown",
   "metadata": {},
   "source": [
    "## Implementación de ACP"
   ]
  },
  {
   "cell_type": "code",
   "execution_count": 17,
   "metadata": {},
   "outputs": [],
   "source": [
    "eigval_sum=sum(eig_vals)\n",
    "eigval_sorted=sorted(eig_vals,reverse=True)\n",
    "eigen_pairs=[(np.abs(eig_vals[i]),eig_vects[:,i]) for i in range(len(eig_vals))]\n",
    "eigen_pairs.sort(reverse=True)\n",
    "eigen_pairs"
   ]
  },
  {
   "cell_type": "code",
   "execution_count": 18,
   "metadata": {},
   "outputs": [
    {
     "data": {
      "text/plain": [
       "(array([51.94589667, 17.26806416, 11.26886534,  9.273971  ,  5.15647098,\n",
       "         2.89804375,  1.93565156,  0.25303653]),\n",
       " array([ 51.94589667,  69.21396083,  80.48282617,  89.75679718,\n",
       "         94.91326816,  97.81131191,  99.74696347, 100.        ]))"
      ]
     },
     "execution_count": 18,
     "metadata": {},
     "output_type": "execute_result"
    }
   ],
   "source": [
    "percent_contrib=np.multiply(eigval_sorted,100/eigval_sum)\n",
    "cum_var=np.cumsum(percent_contrib)\n",
    "xline_var=list(range(len(cum_var)))\n",
    "percent_contrib, cum_var"
   ]
  },
  {
   "cell_type": "code",
   "execution_count": 19,
   "metadata": {},
   "outputs": [
    {
     "data": {
      "text/plain": [
       "[<matplotlib.lines.Line2D at 0x27d9446e708>]"
      ]
     },
     "execution_count": 19,
     "metadata": {},
     "output_type": "execute_result"
    },
    {
     "data": {
      "image/png": "[encoded data removed]",
      "text/plain": [
       "<Figure size 432x288 with 1 Axes>"
      ]
     },
     "metadata": {
      "needs_background": "light"
     },
     "output_type": "display_data"
    }
   ],
   "source": [
    "plt.plot(xline_var,cum_var)"
   ]
  },
  {
   "cell_type": "code",
   "execution_count": 20,
   "metadata": {},
   "outputs": [
    {
     "data": {
      "text/plain": [
       "<BarContainer object of 8 artists>"
      ]
     },
     "execution_count": 20,
     "metadata": {},
     "output_type": "execute_result"
    },
    {
     "data": {
      "image/png": "[encoded data removed]",
      "text/plain": [
       "<Figure size 432x288 with 1 Axes>"
      ]
     },
     "metadata": {
      "needs_background": "light"
     },
     "output_type": "display_data"
    }
   ],
   "source": [
    "plt.bar(xline_var,eigval_sorted)"
   ]
  },
  {
   "cell_type": "markdown",
   "metadata": {},
   "source": [
    "Se seleccionan los primeros 5 mayores para explicar el 95% de la varianza"
   ]
  },
  {
   "cell_type": "markdown",
   "metadata": {},
   "source": [
    "## Creación de matrix W\n"
   ]
  },
  {
   "cell_type": "code",
   "execution_count": 21,
   "metadata": {},
   "outputs": [
    {
     "data": {
      "text/plain": [
       "(19020, 5)"
      ]
     },
     "execution_count": 21,
     "metadata": {},
     "output_type": "execute_result"
    }
   ],
   "source": [
    "num_eigval=5\n",
    "W=[]\n",
    "for i in range(num_eigval):\n",
    "    if i==0:\n",
    "        W=eigen_pairs[i][1].reshape(Col_l,1)\n",
    "    else:\n",
    "        W=np.hstack((W,eigen_pairs[i][1].reshape(Col_l,1)))\n",
    "X_new=x_std.dot(W)\n",
    "X_new.shape"
   ]
  },
  {
   "cell_type": "markdown",
   "metadata": {},
   "source": [
    "# Entrenamiento de modelos "
   ]
  },
  {
   "cell_type": "markdown",
   "metadata": {},
   "source": [
    "Se usará el modelo de regresión logistica, SVM y k nearest y se tratarán de comparar"
   ]
  },
  {
   "cell_type": "code",
   "execution_count": 22,
   "metadata": {},
   "outputs": [],
   "source": [
    "X_train, X_test, Y_train, Y_test=train_test_split(x_std,Y,test_size=0.3,random_state=rand_seed)\n",
    "Xeg_train, Xeg_test, Yeg_train, Yeg_test=train_test_split(X_new,Y,test_size=0.3,random_state=rand_seed)\n",
    "conf_parameter=pd.DataFrame(columns = ['TP','TN','FP','FN'])\n",
    "Method=[]\n",
    "Method_count=0\n",
    "Sensitivities=[]\n",
    "Especifities=[]"
   ]
  },
  {
   "cell_type": "markdown",
   "metadata": {},
   "source": [
    "## Funciones para extraer los parámetros de los modelos "
   ]
  },
  {
   "cell_type": "code",
   "execution_count": 23,
   "metadata": {},
   "outputs": [],
   "source": [
    "def conf_matrix_parameters(Y_pred,Y_real,show_crs=True):\n",
    "    conf_matrix=pd.crosstab(Y_pred,Y_real)\n",
    "    TP=conf_matrix.iloc[1,1]\n",
    "    TN=conf_matrix.iloc[0,0]\n",
    "    FN=conf_matrix.iloc[0,1]\n",
    "    FP=conf_matrix.iloc[1,0]\n",
    "    if show_crs:\n",
    "        print(conf_matrix)    \n",
    "    return [TP,TN,FP,FN] "
   ]
  },
  {
   "cell_type": "code",
   "execution_count": 24,
   "metadata": {},
   "outputs": [],
   "source": [
    "def Conf_parameters(TP,TN,FP,FN):\n",
    "    T_pred=FP+TN+TP+FN\n",
    "    sens=TP/(TP+FN)\n",
    "    espec_1=1-TN/(TN+FP)\n",
    "    prec=TP/(TP+FP)\n",
    "    acc=(TP+TN)/T_pred\n",
    "    p_fp=FP/T_pred\n",
    "    \n",
    "    return sens, espec_1,prec, acc, p_fp"
   ]
  },
  {
   "cell_type": "code",
   "execution_count": 25,
   "metadata": {},
   "outputs": [],
   "source": [
    "def ROC_analisis(prob,Y_test,FP_disp=False):\n",
    "    prob_df=pd.DataFrame(prob)\n",
    "    threshold=0.1\n",
    "    prob_df[\"prediction\"]=np.where(prob_df[0]>=threshold, 1,0)\n",
    "    prob_df[\"actual\"]=list(Y_test)\n",
    "    prob_df\n",
    "    threshold=[0.01, 0.05,0.1,0.15,0.20,0.25, 0.3, 0.4,0.5,0.6,0.7,0.75,0.8,0.85,0.9]\n",
    "    sensitivities=[1]\n",
    "    especificities_1=[1]\n",
    "    prob_fp=[1]\n",
    "    accuracy=[0]\n",
    "    for t in threshold:\n",
    "        prob_df[\"prediction\"]=np.where(prob_df[0]>=t, 1,0)\n",
    "        prob_df[\"actual\"]=list(Y_test)\n",
    "        prob_df.head()\n",
    "        [TP,TN,FP,FN]=conf_matrix_parameters(prob_df.prediction,prob_df.actual,show_crs=False)\n",
    "        T_pred=FP+TN+TP+FN\n",
    "        sens=TP/(TP+FN)\n",
    "        sensitivities.append(sens)\n",
    "        \n",
    "        espec_1=1-TN/(TN+FP)\n",
    "        especificities_1.append(espec_1)\n",
    "        \n",
    "        p_fp=FP/T_pred\n",
    "        prob_fp.append(p_fp)\n",
    "        \n",
    "    sensitivities.append(0)\n",
    "    especificities_1.append(0)\n",
    "    prob_fp.append(0)\n",
    "    num_sens=len(sensitivities)\n",
    "    sensitivities_out=np.array(sensitivities).reshape(num_sens,1)\n",
    "    especificities_1_out=np.array(especificities_1).reshape(num_sens,1)\n",
    "    if FP_disp:\n",
    "        prob_fp_out=np.array(prob_fp).reshape(num_sens,1)\n",
    "        return sensitivities_out,especificities_1_out,prob_fp_out\n",
    "    \n",
    "    else:\n",
    "        return sensitivities_out,especificities_1_out"
   ]
  },
  {
   "cell_type": "code",
   "execution_count": 26,
   "metadata": {},
   "outputs": [],
   "source": [
    "def Curva_ROC(sens,esp,Method):\n",
    "    %matplotlib inline\n",
    "    plt.plot(esp,sens, marker=\"o\", linestyle=\"--\",color=\"r\")\n",
    "    x=[i*0.01 for i in range(100)]\n",
    "    y=[i*0.01 for i in range(100)]\n",
    "    plt.plot(x,y)\n",
    "    plt.xlabel(\"1-Especifidad\")\n",
    "    plt.ylabel(\"Sensibilidad\")\n",
    "    plt.title(\"Curva ROC \" +Method)"
   ]
  },
  {
   "cell_type": "markdown",
   "metadata": {},
   "source": [
    "# Regresión logística"
   ]
  },
  {
   "cell_type": "markdown",
   "metadata": {},
   "source": [
    "## Logistica sin ACP "
   ]
  },
  {
   "cell_type": "code",
   "execution_count": 27,
   "metadata": {},
   "outputs": [],
   "source": [
    "Method.append(\"Log\")\n",
    "Method_count=+1"
   ]
  },
  {
   "cell_type": "code",
   "execution_count": 28,
   "metadata": {},
   "outputs": [
    {
     "data": {
      "text/plain": [
       "0.7887186420309449"
      ]
     },
     "execution_count": 28,
     "metadata": {},
     "output_type": "execute_result"
    }
   ],
   "source": [
    "logit_model=linear_model.LogisticRegression()\n",
    "logit_model.fit(X_train,Y_train)\n",
    "logit_model.score(X_train,Y_train)"
   ]
  },
  {
   "cell_type": "markdown",
   "metadata": {},
   "source": [
    "### Validación Cruzada"
   ]
  },
  {
   "cell_type": "code",
   "execution_count": 29,
   "metadata": {},
   "outputs": [
    {
     "data": {
      "image/png": "[encoded data removed]",
      "text/plain": [
       "<Figure size 432x288 with 1 Axes>"
      ]
     },
     "metadata": {
      "needs_background": "light"
     },
     "output_type": "display_data"
    }
   ],
   "source": [
    "Y_pred=logit_model.predict(X_test)\n",
    "probs=logit_model.predict_proba(X_test)\n",
    "Sensitivities_temp, Especifities_temp=ROC_analisis(probs[:,1],Y_test)\n",
    "Curva_ROC(Sensitivities_temp,Especifities_temp,str(Method[Method_count-1]))\n",
    "Sensitivities=Sensitivities_temp\n",
    "Especifities=Especifities_temp"
   ]
  },
  {
   "cell_type": "markdown",
   "metadata": {},
   "source": [
    "### Matriz de confusión "
   ]
  },
  {
   "cell_type": "code",
   "execution_count": 30,
   "metadata": {},
   "outputs": [
    {
     "name": "stdout",
     "output_type": "stream",
     "text": [
      "col_0     0     1\n",
      "row_0            \n",
      "0      1213   397\n",
      "1       785  3311\n"
     ]
    }
   ],
   "source": [
    "tempdf=pd.DataFrame([conf_matrix_parameters(Y_pred,Y_test)],columns = ['TP','TN','FP','FN'])\n",
    "conf_parameter = pd.concat([conf_parameter,tempdf],axis = 0)"
   ]
  },
  {
   "cell_type": "markdown",
   "metadata": {},
   "source": [
    "## Logistica con ACP "
   ]
  },
  {
   "cell_type": "code",
   "execution_count": 31,
   "metadata": {},
   "outputs": [],
   "source": [
    "Method.append(\"Log_ACP\")\n",
    "Method_count+=1"
   ]
  },
  {
   "cell_type": "code",
   "execution_count": 32,
   "metadata": {},
   "outputs": [
    {
     "data": {
      "text/plain": [
       "0.7833108006609584"
      ]
     },
     "execution_count": 32,
     "metadata": {},
     "output_type": "execute_result"
    }
   ],
   "source": [
    "logiteg_model=linear_model.LogisticRegression()\n",
    "logiteg_model.fit(Xeg_train,Yeg_train)\n",
    "logiteg_model.score(Xeg_train,Yeg_train)"
   ]
  },
  {
   "cell_type": "markdown",
   "metadata": {},
   "source": [
    "### Validación Cruzada "
   ]
  },
  {
   "cell_type": "code",
   "execution_count": 33,
   "metadata": {},
   "outputs": [
    {
     "data": {
      "image/png": "[encoded data removed]",
      "text/plain": [
       "<Figure size 432x288 with 1 Axes>"
      ]
     },
     "metadata": {
      "needs_background": "light"
     },
     "output_type": "display_data"
    }
   ],
   "source": [
    "Yeg_pred=logiteg_model.predict(Xeg_test)\n",
    "probseg=logiteg_model.predict_proba(Xeg_test)\n",
    "Sensitivities_temp, Especifities_temp=ROC_analisis(probseg[:,1],Yeg_test)\n",
    "Curva_ROC(Sensitivities_temp,Especifities_temp,str(Method[Method_count-1]))\n",
    "Sensitivities=np.append(Sensitivities,Sensitivities_temp, axis=1)\n",
    "Especifities=np.append(Especifities,Especifities_temp, axis=1)"
   ]
  },
  {
   "cell_type": "markdown",
   "metadata": {},
   "source": [
    "### Matriz de confusión"
   ]
  },
  {
   "cell_type": "code",
   "execution_count": 34,
   "metadata": {},
   "outputs": [
    {
     "name": "stdout",
     "output_type": "stream",
     "text": [
      "col_0     0     1\n",
      "row_0            \n",
      "0      1173   400\n",
      "1       825  3308\n"
     ]
    }
   ],
   "source": [
    "tempdf=pd.DataFrame([conf_matrix_parameters(Yeg_pred,Yeg_test)],columns = ['TP','TN','FP','FN'])\n",
    "conf_parameter = pd.concat([conf_parameter,tempdf],axis = 0)"
   ]
  },
  {
   "cell_type": "markdown",
   "metadata": {},
   "source": [
    "# Método SVM "
   ]
  },
  {
   "cell_type": "code",
   "execution_count": 35,
   "metadata": {},
   "outputs": [],
   "source": [
    "C_svm=160"
   ]
  },
  {
   "cell_type": "markdown",
   "metadata": {},
   "source": [
    "## SVM sin ACP"
   ]
  },
  {
   "cell_type": "code",
   "execution_count": 36,
   "metadata": {},
   "outputs": [],
   "source": [
    "Method.append(\"SVM\")\n",
    "Method_count+=1"
   ]
  },
  {
   "cell_type": "code",
   "execution_count": 37,
   "metadata": {},
   "outputs": [
    {
     "data": {
      "text/plain": [
       "0.894922637824846"
      ]
     },
     "execution_count": 37,
     "metadata": {},
     "output_type": "execute_result"
    }
   ],
   "source": [
    "Classifier=SVC(kernel=\"rbf\",C=C_svm)\n",
    "Classifier.fit(X_train,Y_train)\n",
    "Y_pred=Classifier.predict(X_train)\n",
    "Total_pred=len(Y_pred)\n",
    "num_err=(Y_train==Y_pred)\n",
    "Good_pred=list(num_err).count(True)\n",
    "Good_pred/Total_pred"
   ]
  },
  {
   "cell_type": "markdown",
   "metadata": {},
   "source": [
    "### Validación cruzada "
   ]
  },
  {
   "cell_type": "code",
   "execution_count": 38,
   "metadata": {},
   "outputs": [
    {
     "data": {
      "text/plain": [
       "0.886435331230284"
      ]
     },
     "execution_count": 38,
     "metadata": {},
     "output_type": "execute_result"
    }
   ],
   "source": [
    "Y_pred_test=Classifier.predict(X_test)\n",
    "total_pred_test=len(Y_pred_test)\n",
    "num_err=(Y_test==Y_pred_test)\n",
    "Good_pred=list(num_err).count(True)\n",
    "Good_pred/total_pred_test"
   ]
  },
  {
   "cell_type": "markdown",
   "metadata": {},
   "source": [
    "### Matriz de confusión "
   ]
  },
  {
   "cell_type": "code",
   "execution_count": 39,
   "metadata": {},
   "outputs": [
    {
     "name": "stdout",
     "output_type": "stream",
     "text": [
      "col_0     0     1\n",
      "row_0            \n",
      "0      1509   159\n",
      "1       489  3549\n"
     ]
    }
   ],
   "source": [
    "tempdf=pd.DataFrame([conf_matrix_parameters(Y_pred_test,Y_test)],columns = ['TP','TN','FP','FN'])\n",
    "conf_parameter = pd.concat([conf_parameter,tempdf],axis = 0)"
   ]
  },
  {
   "cell_type": "markdown",
   "metadata": {},
   "source": [
    "## SVM con ACP "
   ]
  },
  {
   "cell_type": "code",
   "execution_count": 40,
   "metadata": {},
   "outputs": [],
   "source": [
    "Method.append(\"SVM_ACP\")\n",
    "Method_count+=1"
   ]
  },
  {
   "cell_type": "code",
   "execution_count": 41,
   "metadata": {},
   "outputs": [
    {
     "data": {
      "text/plain": [
       "0.8374643232687397"
      ]
     },
     "execution_count": 41,
     "metadata": {},
     "output_type": "execute_result"
    }
   ],
   "source": [
    "Classifier_eg=SVC(kernel=\"rbf\",C=C_svm)\n",
    "Classifier_eg.fit(Xeg_train,Yeg_train)\n",
    "Yeg_pred=Classifier_eg.predict(Xeg_train)\n",
    "Total_pred=len(Yeg_pred)\n",
    "num_eg_err=(Yeg_train==Yeg_pred)\n",
    "Goodeg_pred=list(num_eg_err).count(True)\n",
    "Goodeg_pred/Total_pred"
   ]
  },
  {
   "cell_type": "markdown",
   "metadata": {},
   "source": [
    "### Validación cruzada"
   ]
  },
  {
   "cell_type": "code",
   "execution_count": 42,
   "metadata": {},
   "outputs": [
    {
     "data": {
      "text/plain": [
       "0.828776726253067"
      ]
     },
     "execution_count": 42,
     "metadata": {},
     "output_type": "execute_result"
    }
   ],
   "source": [
    "Yeg_pred_test=Classifier_eg.predict(Xeg_test)\n",
    "total_pred_test=len(Yeg_pred_test)\n",
    "num_eg_err_test=(Yeg_test==Yeg_pred_test)\n",
    "Goodeg_pred=list(num_eg_err_test).count(True)\n",
    "Goodeg_pred/total_pred_test"
   ]
  },
  {
   "cell_type": "markdown",
   "metadata": {},
   "source": [
    "### Matriz de confusión "
   ]
  },
  {
   "cell_type": "code",
   "execution_count": 43,
   "metadata": {},
   "outputs": [
    {
     "name": "stdout",
     "output_type": "stream",
     "text": [
      "col_0     0     1\n",
      "row_0            \n",
      "0      1249   228\n",
      "1       749  3480\n"
     ]
    }
   ],
   "source": [
    "tempdf=pd.DataFrame([conf_matrix_parameters(Yeg_pred_test,Yeg_test)],columns = ['TP','TN','FP','FN'])\n",
    "conf_parameter = pd.concat([conf_parameter,tempdf],axis = 0)"
   ]
  },
  {
   "cell_type": "markdown",
   "metadata": {},
   "source": [
    "# Implementación modelo de k nearest"
   ]
  },
  {
   "cell_type": "markdown",
   "metadata": {},
   "source": [
    "## K nearest sin acp "
   ]
  },
  {
   "cell_type": "code",
   "execution_count": 44,
   "metadata": {},
   "outputs": [],
   "source": [
    "Method.append(\"Kn\")\n",
    "Method_count+=1"
   ]
  },
  {
   "cell_type": "code",
   "execution_count": 45,
   "metadata": {},
   "outputs": [
    {
     "data": {
      "text/plain": [
       "KNeighborsClassifier(algorithm='auto', leaf_size=30, metric='minkowski',\n",
       "                     metric_params=None, n_jobs=None, n_neighbors=5, p=2,\n",
       "                     weights='uniform')"
      ]
     },
     "execution_count": 45,
     "metadata": {},
     "output_type": "execute_result"
    }
   ],
   "source": [
    "kneig_num=5\n",
    "Knear=neighbors.KNeighborsClassifier(n_neighbors=kneig_num)\n",
    "Knear.fit(X_train,Y_train)"
   ]
  },
  {
   "cell_type": "code",
   "execution_count": 46,
   "metadata": {},
   "outputs": [
    {
     "data": {
      "text/plain": [
       "0.8860597866907015"
      ]
     },
     "execution_count": 46,
     "metadata": {},
     "output_type": "execute_result"
    }
   ],
   "source": [
    "Y_pred=Knear.predict(X_train)\n",
    "Total_pred=len(Y_pred)\n",
    "num_err=(Y_train==Y_pred)\n",
    "Good_pred=list(num_err).count(True)\n",
    "Good_pred/Total_pred"
   ]
  },
  {
   "cell_type": "markdown",
   "metadata": {},
   "source": [
    "### Validación cruzada \n"
   ]
  },
  {
   "cell_type": "code",
   "execution_count": 47,
   "metadata": {},
   "outputs": [],
   "source": [
    "Y_pred_test=Knear.predict(X_test)\n",
    "total_pred_test=len(Y_pred_test)\n",
    "num_err=(Y_test==Y_pred_test)\n",
    "Good_pred=list(num_err).count(True)\n",
    "Good_pred/total_pred_test\n",
    "Kprobs=Knear.predict_proba(X_test)\n",
    "Sensitivities_temp, Especifities_temp=ROC_analisis(Kprobs[:,1],Y_test)\n",
    "Sensitivities=np.append(Sensitivities,Sensitivities_temp, axis=1)\n",
    "Especifities=np.append(Especifities,Especifities_temp, axis=1)"
   ]
  },
  {
   "cell_type": "markdown",
   "metadata": {},
   "source": [
    "### Matriz de confusión"
   ]
  },
  {
   "cell_type": "code",
   "execution_count": 48,
   "metadata": {},
   "outputs": [
    {
     "name": "stdout",
     "output_type": "stream",
     "text": [
      "col_0     0     1\n",
      "row_0            \n",
      "0      1378   235\n",
      "1       620  3473\n"
     ]
    },
    {
     "data": {
      "image/png": "[encoded data removed]",
      "text/plain": [
       "<Figure size 432x288 with 1 Axes>"
      ]
     },
     "metadata": {
      "needs_background": "light"
     },
     "output_type": "display_data"
    }
   ],
   "source": [
    "tempdf=pd.DataFrame([conf_matrix_parameters(Y_pred_test,Y_test)],columns = ['TP','TN','FP','FN'])\n",
    "conf_parameter = pd.concat([conf_parameter,tempdf],axis = 0)\n",
    "Curva_ROC(Sensitivities_temp,Especifities_temp,str(Method[Method_count-1]))"
   ]
  },
  {
   "cell_type": "code",
   "execution_count": 49,
   "metadata": {},
   "outputs": [
    {
     "data": {
      "text/plain": [
       "(array([ 857.,    0.,  377.,    0.,  379.,  541.,    0.,    0.,  951.,\n",
       "        2601.]),\n",
       " array([0. , 0.1, 0.2, 0.3, 0.4, 0.5, 0.6, 0.7, 0.8, 0.9, 1. ]),\n",
       " <a list of 10 Patch objects>)"
      ]
     },
     "execution_count": 49,
     "metadata": {},
     "output_type": "execute_result"
    },
    {
     "data": {
      "image/png": "[encoded data removed]",
      "text/plain": [
       "<Figure size 432x288 with 1 Axes>"
      ]
     },
     "metadata": {
      "needs_background": "light"
     },
     "output_type": "display_data"
    }
   ],
   "source": [
    "plt.hist(Kprobs[:,1])"
   ]
  },
  {
   "cell_type": "markdown",
   "metadata": {},
   "source": [
    "## K nearest con acp \n"
   ]
  },
  {
   "cell_type": "code",
   "execution_count": 50,
   "metadata": {},
   "outputs": [],
   "source": [
    "Method.append(\"Kn_ACP\")\n",
    "Method_count+=1"
   ]
  },
  {
   "cell_type": "code",
   "execution_count": 51,
   "metadata": {},
   "outputs": [
    {
     "data": {
      "text/plain": [
       "0.857893946222022"
      ]
     },
     "execution_count": 51,
     "metadata": {},
     "output_type": "execute_result"
    }
   ],
   "source": [
    "Kneareg=neighbors.KNeighborsClassifier(n_neighbors=kneig_num)\n",
    "Kneareg.fit(Xeg_train,Yeg_train)\n",
    "Yeg_pred=Kneareg.predict(Xeg_train)\n",
    "Total_pred=len(Yeg_pred)\n",
    "num_err=(Yeg_train==Yeg_pred)\n",
    "Good_pred=list(num_err).count(True)\n",
    "Good_pred/Total_pred"
   ]
  },
  {
   "cell_type": "markdown",
   "metadata": {},
   "source": [
    "### Validación cruzada \n"
   ]
  },
  {
   "cell_type": "code",
   "execution_count": 52,
   "metadata": {},
   "outputs": [
    {
     "data": {
      "text/plain": [
       "0.8098492814581143"
      ]
     },
     "execution_count": 52,
     "metadata": {},
     "output_type": "execute_result"
    }
   ],
   "source": [
    "Yeg_pred_test=Kneareg.predict(Xeg_test)\n",
    "Kprobs_eg=Kneareg.predict_proba(Xeg_test)\n",
    "Sensitivities_temp, Especifities_temp=ROC_analisis(Kprobs_eg[:,1],Yeg_test)\n",
    "Sensitivities=np.append(Sensitivities,Sensitivities_temp, axis=1)\n",
    "Especifities=np.append(Especifities,Especifities_temp, axis=1)\n",
    "total_pred_test=len(Yeg_pred_test)\n",
    "num_err=(Yeg_test==Yeg_pred_test)\n",
    "Good_pred=list(num_err).count(True)\n",
    "Good_pred/total_pred_test"
   ]
  },
  {
   "cell_type": "markdown",
   "metadata": {},
   "source": [
    "### Matriz de confusión"
   ]
  },
  {
   "cell_type": "code",
   "execution_count": 53,
   "metadata": {},
   "outputs": [
    {
     "name": "stdout",
     "output_type": "stream",
     "text": [
      "col_0     0     1\n",
      "row_0            \n",
      "0      1281   368\n",
      "1       717  3340\n"
     ]
    },
    {
     "data": {
      "image/png": "[encoded data removed]",
      "text/plain": [
       "<Figure size 432x288 with 1 Axes>"
      ]
     },
     "metadata": {
      "needs_background": "light"
     },
     "output_type": "display_data"
    }
   ],
   "source": [
    "tempdf=pd.DataFrame([conf_matrix_parameters(Yeg_pred_test,Yeg_test)],columns = ['TP','TN','FP','FN'])\n",
    "conf_parameter = pd.concat([conf_parameter,tempdf],axis = 0)\n",
    "Curva_ROC(Sensitivities_temp,Especifities_temp,str(Method[Method_count-1]))"
   ]
  },
  {
   "cell_type": "markdown",
   "metadata": {},
   "source": [
    "# Resultados de los modelos"
   ]
  },
  {
   "cell_type": "code",
   "execution_count": 54,
   "metadata": {},
   "outputs": [
    {
     "data": {
      "text/html": [
       "<div>\n",
       "<style scoped>\n",
       "    .dataframe tbody tr th:only-of-type {\n",
       "        vertical-align: middle;\n",
       "    }\n",
       "\n",
       "    .dataframe tbody tr th {\n",
       "        vertical-align: top;\n",
       "    }\n",
       "\n",
       "    .dataframe thead th {\n",
       "        text-align: right;\n",
       "    }\n",
       "</style>\n",
       "<table border=\"1\" class=\"dataframe\">\n",
       "  <thead>\n",
       "    <tr style=\"text-align: right;\">\n",
       "      <th></th>\n",
       "      <th>TP</th>\n",
       "      <th>TN</th>\n",
       "      <th>FP</th>\n",
       "      <th>FN</th>\n",
       "      <th>Sens</th>\n",
       "      <th>1-Espec</th>\n",
       "      <th>Prec</th>\n",
       "      <th>Acc</th>\n",
       "      <th>FP_prob</th>\n",
       "    </tr>\n",
       "  </thead>\n",
       "  <tbody>\n",
       "    <tr>\n",
       "      <th>Log</th>\n",
       "      <td>3311</td>\n",
       "      <td>1213</td>\n",
       "      <td>785</td>\n",
       "      <td>397</td>\n",
       "      <td>0.892934</td>\n",
       "      <td>0.392893</td>\n",
       "      <td>0.80835</td>\n",
       "      <td>0.79285</td>\n",
       "      <td>0.137574</td>\n",
       "    </tr>\n",
       "    <tr>\n",
       "      <th>Log_ACP</th>\n",
       "      <td>3308</td>\n",
       "      <td>1173</td>\n",
       "      <td>825</td>\n",
       "      <td>400</td>\n",
       "      <td>0.892125</td>\n",
       "      <td>0.412913</td>\n",
       "      <td>0.800387</td>\n",
       "      <td>0.785314</td>\n",
       "      <td>0.144585</td>\n",
       "    </tr>\n",
       "    <tr>\n",
       "      <th>SVM</th>\n",
       "      <td>3549</td>\n",
       "      <td>1509</td>\n",
       "      <td>489</td>\n",
       "      <td>159</td>\n",
       "      <td>0.95712</td>\n",
       "      <td>0.244745</td>\n",
       "      <td>0.8789</td>\n",
       "      <td>0.886435</td>\n",
       "      <td>0.085699</td>\n",
       "    </tr>\n",
       "    <tr>\n",
       "      <th>SVM_ACP</th>\n",
       "      <td>3480</td>\n",
       "      <td>1249</td>\n",
       "      <td>749</td>\n",
       "      <td>228</td>\n",
       "      <td>0.938511</td>\n",
       "      <td>0.374875</td>\n",
       "      <td>0.82289</td>\n",
       "      <td>0.828777</td>\n",
       "      <td>0.131265</td>\n",
       "    </tr>\n",
       "    <tr>\n",
       "      <th>Kn</th>\n",
       "      <td>3473</td>\n",
       "      <td>1378</td>\n",
       "      <td>620</td>\n",
       "      <td>235</td>\n",
       "      <td>0.936624</td>\n",
       "      <td>0.31031</td>\n",
       "      <td>0.848522</td>\n",
       "      <td>0.850158</td>\n",
       "      <td>0.108658</td>\n",
       "    </tr>\n",
       "    <tr>\n",
       "      <th>Kn_ACP</th>\n",
       "      <td>3340</td>\n",
       "      <td>1281</td>\n",
       "      <td>717</td>\n",
       "      <td>368</td>\n",
       "      <td>0.900755</td>\n",
       "      <td>0.358859</td>\n",
       "      <td>0.823268</td>\n",
       "      <td>0.809849</td>\n",
       "      <td>0.125657</td>\n",
       "    </tr>\n",
       "  </tbody>\n",
       "</table>\n",
       "</div>"
      ],
      "text/plain": [
       "           TP    TN   FP   FN      Sens   1-Espec      Prec       Acc  \\\n",
       "Log      3311  1213  785  397  0.892934  0.392893   0.80835   0.79285   \n",
       "Log_ACP  3308  1173  825  400  0.892125  0.412913  0.800387  0.785314   \n",
       "SVM      3549  1509  489  159   0.95712  0.244745    0.8789  0.886435   \n",
       "SVM_ACP  3480  1249  749  228  0.938511  0.374875   0.82289  0.828777   \n",
       "Kn       3473  1378  620  235  0.936624   0.31031  0.848522  0.850158   \n",
       "Kn_ACP   3340  1281  717  368  0.900755  0.358859  0.823268  0.809849   \n",
       "\n",
       "          FP_prob  \n",
       "Log      0.137574  \n",
       "Log_ACP  0.144585  \n",
       "SVM      0.085699  \n",
       "SVM_ACP  0.131265  \n",
       "Kn       0.108658  \n",
       "Kn_ACP   0.125657  "
      ]
     },
     "execution_count": 54,
     "metadata": {},
     "output_type": "execute_result"
    }
   ],
   "source": [
    "conf_parameter[\"Sens\"]=conf_parameter[\"TP\"]/(conf_parameter[\"TP\"]+conf_parameter[\"FN\"])\n",
    "conf_parameter[\"1-Espec\"]=1-(conf_parameter[\"TN\"]/(conf_parameter[\"TN\"]+conf_parameter[\"FP\"]))\n",
    "\n",
    "conf_parameter[\"Prec\"]=conf_parameter[\"TP\"]/(conf_parameter[\"FP\"]+conf_parameter[\"TP\"])\n",
    "conf_parameter[\"Acc\"]=(conf_parameter[\"TP\"]+conf_parameter[\"TN\"])/(conf_parameter[\"FN\"]+conf_parameter[\"FP\"]+\n",
    "                                                                   conf_parameter[\"TP\"]+conf_parameter[\"TN\"])\n",
    "conf_parameter[\"FP_prob\"]=conf_parameter[\"FP\"]/(conf_parameter[\"FN\"]+conf_parameter[\"FP\"]+\n",
    "                                                                   conf_parameter[\"TP\"]+conf_parameter[\"TN\"])\n",
    "\n",
    "conf_parameter.index = Method\n",
    "conf_parameter"
   ]
  },
  {
   "cell_type": "code",
   "execution_count": 55,
   "metadata": {},
   "outputs": [
    {
     "data": {
      "text/plain": [
       "<BarContainer object of 6 artists>"
      ]
     },
     "execution_count": 55,
     "metadata": {},
     "output_type": "execute_result"
    },
    {
     "data": {
      "image/png": "[encoded data removed]",
      "text/plain": [
       "<Figure size 432x288 with 1 Axes>"
      ]
     },
     "metadata": {
      "needs_background": "light"
     },
     "output_type": "display_data"
    }
   ],
   "source": [
    "plt.bar(Method,conf_parameter.Acc)"
   ]
  },
  {
   "cell_type": "markdown",
   "metadata": {},
   "source": [
    "* Los dos mejores modelos en cuanto a precisión son los de SVM y los de Kn. Ademas estos minimizan la probabilidad de un falso positivo (FP_prob), o cual es de gran importancia ya que es el objetivo enunciado en el dataset. "
   ]
  },
  {
   "cell_type": "markdown",
   "metadata": {},
   "source": [
    "## Comparación de curvas ROC "
   ]
  },
  {
   "cell_type": "code",
   "execution_count": 56,
   "metadata": {},
   "outputs": [
    {
     "data": {
      "text/plain": [
       "Text(0.5, 1.0, 'Comparación de curvas ROC')"
      ]
     },
     "execution_count": 56,
     "metadata": {},
     "output_type": "execute_result"
    },
    {
     "data": {
      "image/png": "[encoded data removed]",
      "text/plain": [
       "<Figure size 1152x432 with 1 Axes>"
      ]
     },
     "metadata": {
      "needs_background": "light"
     },
     "output_type": "display_data"
    }
   ],
   "source": [
    "Method_ROC=[Method[i] for i in (0,1,4,5)]\n",
    "%matplotlib inline\n",
    "fig=plt.figure(figsize=(16,6))\n",
    "for i in range(4):\n",
    "    plt.plot(Especifities[:,i],Sensitivities[:,i],linestyle=\"--\", marker=\"o\")\n",
    "plt.legend(Method_ROC)\n",
    "x=[i*0.01 for i in range(100)]\n",
    "y=[i*0.01 for i in range(100)]\n",
    "plt.plot(x,y)\n",
    "plt.xlabel(\"1-Especifidad\")\n",
    "plt.ylabel(\"Sensibilidad\")\n",
    "plt.title(\"Comparación de curvas ROC\")  "
   ]
  },
  {
   "cell_type": "markdown",
   "metadata": {},
   "source": [
    "* Se puede observar que el mejor modelo que puede producir una curva ROC es el de K neighbors.\n",
    "\n",
    "* Por la necesidad de reducir la cantidad de Falsos positivos -> La especificidad debe ser máxima y 1-E menor a 0.2.   "
   ]
  },
  {
   "cell_type": "markdown",
   "metadata": {},
   "source": [
    "## Ajuste de modelo kmeans a partir de curva ROC"
   ]
  },
  {
   "cell_type": "code",
   "execution_count": 57,
   "metadata": {},
   "outputs": [
    {
     "data": {
      "text/plain": [
       "[([1.0], 0),\n",
       " ([0.5860860860860861], 0.01),\n",
       " ([0.5860860860860861], 0.05),\n",
       " ([0.5860860860860861], 0.1),\n",
       " ([0.5860860860860861], 0.15),\n",
       " ([0.5860860860860861], 0.2),\n",
       " ([0.4319319319319319], 0.25),\n",
       " ([0.4319319319319319], 0.3),\n",
       " ([0.4319319319319319], 0.4),\n",
       " ([0.3103103103103103], 0.5),\n",
       " ([0.3103103103103103], 0.6),\n",
       " ([0.1971971971971972], 0.7),\n",
       " ([0.1971971971971972], 0.75),\n",
       " ([0.1971971971971972], 0.8),\n",
       " ([0.09509509509509506], 0.85),\n",
       " ([0.09509509509509506], 0.9),\n",
       " ([0.0], 1)]"
      ]
     },
     "execution_count": 57,
     "metadata": {},
     "output_type": "execute_result"
    }
   ],
   "source": [
    "trhlist=[0,0.01, 0.05,0.1,0.15,0.20,0.25, 0.3, 0.4,0.5,0.6,0.7,0.75,0.8,0.85,0.9,1]\n",
    "Sensitivities_Kn, Especifities_Kn=ROC_analisis(Kprobs[:,1],Y_test)\n",
    "Esp_KN_ROC=Especifities_Kn[-6]\n",
    "Sens_KN_ROC=Sensitivities_Kn[-6]\n",
    "list(zip(Especifities_Kn.tolist(),trhlist))"
   ]
  },
  {
   "cell_type": "markdown",
   "metadata": {},
   "source": [
    "** Se selecciona un thr de 70% pues se considera un punto óptimo en cuanto a su curva ROC y permite un 1-Espec dentro de la tolerancia"
   ]
  },
  {
   "cell_type": "code",
   "execution_count": 58,
   "metadata": {},
   "outputs": [
    {
     "data": {
      "text/html": [
       "<div>\n",
       "<style scoped>\n",
       "    .dataframe tbody tr th:only-of-type {\n",
       "        vertical-align: middle;\n",
       "    }\n",
       "\n",
       "    .dataframe tbody tr th {\n",
       "        vertical-align: top;\n",
       "    }\n",
       "\n",
       "    .dataframe thead th {\n",
       "        text-align: right;\n",
       "    }\n",
       "</style>\n",
       "<table border=\"1\" class=\"dataframe\">\n",
       "  <thead>\n",
       "    <tr style=\"text-align: right;\">\n",
       "      <th></th>\n",
       "      <th>TP</th>\n",
       "      <th>TN</th>\n",
       "      <th>FP</th>\n",
       "      <th>FN</th>\n",
       "      <th>Sens</th>\n",
       "      <th>1-Espec</th>\n",
       "      <th>Prec</th>\n",
       "      <th>Acc</th>\n",
       "      <th>FP_prob</th>\n",
       "    </tr>\n",
       "  </thead>\n",
       "  <tbody>\n",
       "    <tr>\n",
       "      <th>Log</th>\n",
       "      <td>3311</td>\n",
       "      <td>1213</td>\n",
       "      <td>785</td>\n",
       "      <td>397</td>\n",
       "      <td>0.892934</td>\n",
       "      <td>0.392893</td>\n",
       "      <td>0.80835</td>\n",
       "      <td>0.79285</td>\n",
       "      <td>0.137574</td>\n",
       "    </tr>\n",
       "    <tr>\n",
       "      <th>Log_ACP</th>\n",
       "      <td>3308</td>\n",
       "      <td>1173</td>\n",
       "      <td>825</td>\n",
       "      <td>400</td>\n",
       "      <td>0.892125</td>\n",
       "      <td>0.412913</td>\n",
       "      <td>0.800387</td>\n",
       "      <td>0.785314</td>\n",
       "      <td>0.144585</td>\n",
       "    </tr>\n",
       "    <tr>\n",
       "      <th>SVM</th>\n",
       "      <td>3549</td>\n",
       "      <td>1509</td>\n",
       "      <td>489</td>\n",
       "      <td>159</td>\n",
       "      <td>0.95712</td>\n",
       "      <td>0.244745</td>\n",
       "      <td>0.8789</td>\n",
       "      <td>0.886435</td>\n",
       "      <td>0.085699</td>\n",
       "    </tr>\n",
       "    <tr>\n",
       "      <th>SVM_ACP</th>\n",
       "      <td>3480</td>\n",
       "      <td>1249</td>\n",
       "      <td>749</td>\n",
       "      <td>228</td>\n",
       "      <td>0.938511</td>\n",
       "      <td>0.374875</td>\n",
       "      <td>0.82289</td>\n",
       "      <td>0.828777</td>\n",
       "      <td>0.131265</td>\n",
       "    </tr>\n",
       "    <tr>\n",
       "      <th>Kn</th>\n",
       "      <td>3473</td>\n",
       "      <td>1378</td>\n",
       "      <td>620</td>\n",
       "      <td>235</td>\n",
       "      <td>0.936624</td>\n",
       "      <td>0.31031</td>\n",
       "      <td>0.848522</td>\n",
       "      <td>0.850158</td>\n",
       "      <td>0.108658</td>\n",
       "    </tr>\n",
       "    <tr>\n",
       "      <th>Kn_ACP</th>\n",
       "      <td>3340</td>\n",
       "      <td>1281</td>\n",
       "      <td>717</td>\n",
       "      <td>368</td>\n",
       "      <td>0.900755</td>\n",
       "      <td>0.358859</td>\n",
       "      <td>0.823268</td>\n",
       "      <td>0.809849</td>\n",
       "      <td>0.125657</td>\n",
       "    </tr>\n",
       "    <tr>\n",
       "      <th>Kn_70</th>\n",
       "      <td>3158</td>\n",
       "      <td>1604</td>\n",
       "      <td>394</td>\n",
       "      <td>550</td>\n",
       "      <td>0.851672</td>\n",
       "      <td>0.197197</td>\n",
       "      <td>0.889077</td>\n",
       "      <td>0.83456</td>\n",
       "      <td>0.06905</td>\n",
       "    </tr>\n",
       "  </tbody>\n",
       "</table>\n",
       "</div>"
      ],
      "text/plain": [
       "           TP    TN   FP   FN      Sens   1-Espec      Prec       Acc  \\\n",
       "Log      3311  1213  785  397  0.892934  0.392893   0.80835   0.79285   \n",
       "Log_ACP  3308  1173  825  400  0.892125  0.412913  0.800387  0.785314   \n",
       "SVM      3549  1509  489  159   0.95712  0.244745    0.8789  0.886435   \n",
       "SVM_ACP  3480  1249  749  228  0.938511  0.374875   0.82289  0.828777   \n",
       "Kn       3473  1378  620  235  0.936624   0.31031  0.848522  0.850158   \n",
       "Kn_ACP   3340  1281  717  368  0.900755  0.358859  0.823268  0.809849   \n",
       "Kn_70    3158  1604  394  550  0.851672  0.197197  0.889077   0.83456   \n",
       "\n",
       "          FP_prob  \n",
       "Log      0.137574  \n",
       "Log_ACP  0.144585  \n",
       "SVM      0.085699  \n",
       "SVM_ACP  0.131265  \n",
       "Kn       0.108658  \n",
       "Kn_ACP   0.125657  \n",
       "Kn_70     0.06905  "
      ]
     },
     "execution_count": 58,
     "metadata": {},
     "output_type": "execute_result"
    }
   ],
   "source": [
    "trh=trhlist[-6]\n",
    "pred_Kna_adj=np.where(Kprobs[:,1]>=trh, 1,0)\n",
    "Conf_Val=[None]*9\n",
    "Conf_Val[0],Conf_Val[1],Conf_Val[2],Conf_Val[3]=conf_matrix_parameters(pred_Kna_adj,Yeg_test,show_crs=False)\n",
    "Conf_Val[4],Conf_Val[5],Conf_Val[6],Conf_Val[7],Conf_Val[8]=Conf_parameters(Conf_Val[0],Conf_Val[1],Conf_Val[2],Conf_Val[3])\n",
    "tempdf=pd.DataFrame([Conf_Val],columns = ['TP','TN','FP','FN',\"Sens\",\"1-Espec\",\"Prec\",\"Acc\",\"FP_prob\"])\n",
    "conf_parameter = pd.concat([conf_parameter,tempdf],axis = 0)\n",
    "Method.append(\"Kn_70\")\n",
    "Method_count+=1\n",
    "conf_parameter.index = Method\n",
    "conf_parameter"
   ]
  },
  {
   "cell_type": "markdown",
   "metadata": {},
   "source": [
    "# Comparación final "
   ]
  },
  {
   "cell_type": "code",
   "execution_count": 59,
   "metadata": {},
   "outputs": [
    {
     "data": {
      "text/html": [
       "<div>\n",
       "<style scoped>\n",
       "    .dataframe tbody tr th:only-of-type {\n",
       "        vertical-align: middle;\n",
       "    }\n",
       "\n",
       "    .dataframe tbody tr th {\n",
       "        vertical-align: top;\n",
       "    }\n",
       "\n",
       "    .dataframe thead th {\n",
       "        text-align: right;\n",
       "    }\n",
       "</style>\n",
       "<table border=\"1\" class=\"dataframe\">\n",
       "  <thead>\n",
       "    <tr style=\"text-align: right;\">\n",
       "      <th></th>\n",
       "      <th>Sens</th>\n",
       "      <th>1-Espec</th>\n",
       "      <th>Prec</th>\n",
       "      <th>Acc</th>\n",
       "      <th>FP_prob</th>\n",
       "    </tr>\n",
       "  </thead>\n",
       "  <tbody>\n",
       "    <tr>\n",
       "      <th>SVM</th>\n",
       "      <td>0.95712</td>\n",
       "      <td>0.244745</td>\n",
       "      <td>0.8789</td>\n",
       "      <td>0.886435</td>\n",
       "      <td>0.085699</td>\n",
       "    </tr>\n",
       "    <tr>\n",
       "      <th>Kn_70</th>\n",
       "      <td>0.851672</td>\n",
       "      <td>0.197197</td>\n",
       "      <td>0.889077</td>\n",
       "      <td>0.83456</td>\n",
       "      <td>0.06905</td>\n",
       "    </tr>\n",
       "  </tbody>\n",
       "</table>\n",
       "</div>"
      ],
      "text/plain": [
       "           Sens   1-Espec      Prec       Acc   FP_prob\n",
       "SVM     0.95712  0.244745    0.8789  0.886435  0.085699\n",
       "Kn_70  0.851672  0.197197  0.889077   0.83456   0.06905"
      ]
     },
     "execution_count": 59,
     "metadata": {},
     "output_type": "execute_result"
    }
   ],
   "source": [
    "final_df=conf_parameter.drop([\"TP\",\"TN\",\"FP\",\"FN\"], axis=1).loc[[\"SVM\",\"Kn_70\"]]\n",
    "final_df"
   ]
  },
  {
   "cell_type": "markdown",
   "metadata": {},
   "source": [
    "# Conclusiones"
   ]
  },
  {
   "cell_type": "markdown",
   "metadata": {},
   "source": [
    "** Se consideró inicialmente que la remoción del parámetro size reduciría el error, ya que debería de ser dependiende de los parámetros Length y Width, sin embbargo esto solo se daría para elipses simétricos. Así al remover dicho parámetro, la calidad de los parámetros de comparación se había reducido considerablemente. \n",
    "\n",
    "** A pesar de mostrarse una aperente multicolinealidad, el uso de ACP disminuyó la calidad de los resultados los cuales mejoraban al usar todos los eigenvalores, dando los mismos resultados que sin ACP.\n",
    "\n",
    "** Al comparar los resultados de los seis diferentes modelos usados, se determinó que los dos mejores son los de SVM y el de K neigbors, siendo el primero el de mayor  exactitud, sin embargo, debido a que el enunciado pide un valor máximo de 0.2 de 1-Espec, se elegiría el método de K neigbors. Ademas, en caso de requerir un valor máximo de 0.1, se cambia el thr por 85%.  "
   ]
  },
  {
   "cell_type": "code",
   "execution_count": null,
   "metadata": {},
   "outputs": [],
   "source": []
  }
 ],
 "metadata": {
  "kernelspec": {
   "display_name": "Python 3",
   "language": "python",
   "name": "python3"
  },
  "language_info": {
   "codemirror_mode": {
    "name": "ipython",
    "version": 3
   },
   "file_extension": ".py",
   "mimetype": "text/x-python",
   "name": "python",
   "nbconvert_exporter": "python",
   "pygments_lexer": "ipython3",
   "version": "3.7.6"
  }
 },
 "nbformat": 4,
 "nbformat_minor": 4
}
